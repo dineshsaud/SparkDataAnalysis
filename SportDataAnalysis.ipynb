{
  "nbformat": 4,
  "nbformat_minor": 0,
  "metadata": {
    "colab": {
      "provenance": []
    },
    "kernelspec": {
      "name": "python3",
      "display_name": "Python 3"
    },
    "language_info": {
      "name": "python"
    }
  },
  "cells": [
    {
      "cell_type": "code",
      "execution_count": null,
      "metadata": {
        "colab": {
          "base_uri": "https://localhost:8080/"
        },
        "id": "6OLvyutdUYIj",
        "outputId": "5b0b8d2e-483e-4da0-b412-a8dc3e09aa20"
      },
      "outputs": [
        {
          "output_type": "stream",
          "name": "stdout",
          "text": [
            "Requirement already satisfied: pyspark in /usr/local/lib/python3.11/dist-packages (3.5.4)\n",
            "Requirement already satisfied: py4j==0.10.9.7 in /usr/local/lib/python3.11/dist-packages (from pyspark) (0.10.9.7)\n"
          ]
        }
      ],
      "source": [
        "!pip install pyspark"
      ]
    },
    {
      "cell_type": "code",
      "source": [
        "\n",
        "from pyspark.sql import SparkSession\n",
        "from pyspark.sql import functions as f\n",
        "from pyspark.sql.types import StructType,StructField,StringType,IntegerType\n",
        "from pyspark.sql.window import Window\n"
      ],
      "metadata": {
        "id": "-i9yUlP8clR7"
      },
      "execution_count": 4,
      "outputs": []
    },
    {
      "cell_type": "code",
      "source": [
        "spark = (\n",
        "    SparkSession.builder\n",
        "    .appName(\"DineshPractice.me\")\n",
        "    .getOrCreate())\n"
      ],
      "metadata": {
        "id": "G-0ytB5zUdLH"
      },
      "execution_count": 5,
      "outputs": []
    },
    {
      "cell_type": "code",
      "source": [
        "schema = StructType([\n",
        "    StructField(\"user_id\", IntegerType(), True),\n",
        "    StructField(\"kit_id\", IntegerType(), True),\n",
        "    StructField(\"login_date\", StringType(), True),\n",
        "    StructField(\"sessions_count\", IntegerType(), True)\n",
        "])"
      ],
      "metadata": {
        "id": "zscER6H0cZsy"
      },
      "execution_count": 6,
      "outputs": []
    },
    {
      "cell_type": "code",
      "source": [
        "data = [\n",
        "    (1, 2, \"2016-03-01\", 5),\n",
        "    (1, 2, \"2016-03-02\", 6),\n",
        "    (2, 3, \"2017-06-25\", 1),\n",
        "    (3, 1, \"2016-03-02\", 0),\n",
        "    (3, 4, \"2018-07-03\", 5)\n",
        "]"
      ],
      "metadata": {
        "id": "7BhFOE0Edfzn"
      },
      "execution_count": 7,
      "outputs": []
    },
    {
      "cell_type": "code",
      "source": [
        "input_df = spark.createDataFrame(data=data,schema=schema)\n",
        "\n",
        "input_df.show()"
      ],
      "metadata": {
        "colab": {
          "base_uri": "https://localhost:8080/"
        },
        "id": "n0VYU6aUdnSR",
        "outputId": "699ccddf-8abe-4f14-cbbf-b45672b0b560"
      },
      "execution_count": 8,
      "outputs": [
        {
          "output_type": "stream",
          "name": "stdout",
          "text": [
            "+-------+------+----------+--------------+\n",
            "|user_id|kit_id|login_date|sessions_count|\n",
            "+-------+------+----------+--------------+\n",
            "|      1|     2|2016-03-01|             5|\n",
            "|      1|     2|2016-03-02|             6|\n",
            "|      2|     3|2017-06-25|             1|\n",
            "|      3|     1|2016-03-02|             0|\n",
            "|      3|     4|2018-07-03|             5|\n",
            "+-------+------+----------+--------------+\n",
            "\n"
          ]
        }
      ]
    },
    {
      "cell_type": "code",
      "source": [
        "GroupedDF = input_df.groupBy(\"user_id\").agg(\n",
        "    f.min(\"login_date\").alias(\"first_login\"))\n",
        "\n",
        "GroupedDF.show()"
      ],
      "metadata": {
        "colab": {
          "base_uri": "https://localhost:8080/"
        },
        "id": "NSfAHRXteDIJ",
        "outputId": "4ef2f703-0be0-4b5e-cb5b-afff5ff4ada7"
      },
      "execution_count": 9,
      "outputs": [
        {
          "output_type": "stream",
          "name": "stdout",
          "text": [
            "+-------+-----------+\n",
            "|user_id|first_login|\n",
            "+-------+-----------+\n",
            "|      1| 2016-03-01|\n",
            "|      2| 2017-06-25|\n",
            "|      3| 2016-03-02|\n",
            "+-------+-----------+\n",
            "\n"
          ]
        }
      ]
    },
    {
      "cell_type": "code",
      "source": [
        "windowSpec = Window.partitionBy(\"user_id\").orderBy(\"login_date\")\n",
        "\n",
        "\n",
        "rankDf = input_df.withColumn(\"rank\", f.rank().over(windowSpec))\n",
        "\n",
        "rankDf.show()\n"
      ],
      "metadata": {
        "colab": {
          "base_uri": "https://localhost:8080/"
        },
        "id": "F9l9bojneVdp",
        "outputId": "08faebc3-62b5-41ef-f7c2-27c1a02388c1"
      },
      "execution_count": 10,
      "outputs": [
        {
          "output_type": "stream",
          "name": "stdout",
          "text": [
            "+-------+------+----------+--------------+----+\n",
            "|user_id|kit_id|login_date|sessions_count|rank|\n",
            "+-------+------+----------+--------------+----+\n",
            "|      1|     2|2016-03-01|             5|   1|\n",
            "|      1|     2|2016-03-02|             6|   2|\n",
            "|      2|     3|2017-06-25|             1|   1|\n",
            "|      3|     1|2016-03-02|             0|   1|\n",
            "|      3|     4|2018-07-03|             5|   2|\n",
            "+-------+------+----------+--------------+----+\n",
            "\n"
          ]
        }
      ]
    },
    {
      "cell_type": "code",
      "source": [
        "result = rankDf.select(f.col(\"user_id\"),\n",
        "                       f.col(\"kit_id\"),\n",
        "                       f.col(\"login_date\").alias(\"first_login\"),\n",
        "                       f.col(\"rank\")\n",
        ").filter(f.col(\"rank\")==1)\n",
        "\n",
        "result.show()"
      ],
      "metadata": {
        "id": "UmzYFZ-sgseB",
        "colab": {
          "base_uri": "https://localhost:8080/"
        },
        "outputId": "555b4a17-f37a-4b5c-eda5-ff7ac880deb4"
      },
      "execution_count": 12,
      "outputs": [
        {
          "output_type": "stream",
          "name": "stdout",
          "text": [
            "+-------+------+-----------+----+\n",
            "|user_id|kit_id|first_login|rank|\n",
            "+-------+------+-----------+----+\n",
            "|      1|     2| 2016-03-01|   1|\n",
            "|      2|     3| 2017-06-25|   1|\n",
            "|      3|     1| 2016-03-02|   1|\n",
            "+-------+------+-----------+----+\n",
            "\n"
          ]
        }
      ]
    }
  ]
}